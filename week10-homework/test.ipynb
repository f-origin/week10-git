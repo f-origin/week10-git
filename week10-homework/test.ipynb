{
 "cells": [
  {
   "cell_type": "code",
   "execution_count": 16,
   "metadata": {},
   "outputs": [
    {
     "name": "stdout",
     "output_type": "stream",
     "text": [
      "2007_000032\n"
     ]
    }
   ],
   "source": [
    "import os\n",
    "def read_images_names(root, train=True):\n",
    "    txt_fname = os.path.join(root, 'ImageSets/Segmentation/', 'train.txt' if train else 'val.txt')\n",
    "\n",
    "    with open(txt_fname, 'r') as f:\n",
    "        images = f.read().split()\n",
    "\n",
    "    data = []\n",
    "    label = []\n",
    "    for fname in images:\n",
    "        data.append('%s/JPEGImages/%s.jpg' % (root, fname))\n",
    "        label.append('%s/SegmentationClass/%s.png' % (root, fname))\n",
    "    return zip(data, label)\n",
    "\n",
    "\n",
    "train_files = read_images_names('./VOCdevkit/VOC2012/', True)\n",
    "for index,item in enumerate(train_files):\n",
    "    if index < 1:\n",
    "        print(item[0][item[0].rfind('/')+1:].split('.')[0])\n",
    "\n",
    "# dataset_split =  os.path.join('./VOCdevkit/VOC2012/', 'ImageSets/Segmentation/', 'train.txt')\n",
    "\n",
    "# [x.strip('\\n') for x in open(dataset_split, 'r')]"
   ]
  }
 ],
 "metadata": {
  "kernelspec": {
   "display_name": "Python 3",
   "language": "python",
   "name": "python3"
  },
  "language_info": {
   "codemirror_mode": {
    "name": "ipython",
    "version": 3
   },
   "file_extension": ".py",
   "mimetype": "text/x-python",
   "name": "python",
   "nbconvert_exporter": "python",
   "pygments_lexer": "ipython3",
   "version": "3.6.7"
  }
 },
 "nbformat": 4,
 "nbformat_minor": 2
}
